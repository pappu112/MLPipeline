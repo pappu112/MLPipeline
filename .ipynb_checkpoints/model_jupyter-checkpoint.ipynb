{
 "cells": [
  {
   "cell_type": "code",
   "execution_count": null,
   "id": "7e10a4f8-e7bc-487c-b346-e68c159e0875",
   "metadata": {},
   "outputs": [],
   "source": [
    "from google.cloud import bigquery\n",
    "import csv\n",
    "import numpy as np\n",
    "import pandas as pd\n",
    "\n",
    "import os\n",
    "\n",
    "credentials_path = 'data-key.json'\n",
    "\n",
    "os.environ['GOOGLE_APPLICATION_CREDENTIALS'] = credentials_path\n",
    "\n",
    "\n",
    "client = bigquery.Client()\n",
    "\n",
    "QUERY = ('SELECT YearsExperience,Salary FROM `hip-plexus-238820.mldata1.input_data` LIMIT 1000')\n",
    "query_job = client.query(QUERY) # API request\n",
    "#query_job.to_csv(\"id.CSV\",index= False)\n",
    "rows = query_job.result()  # Waits for query to finish\n",
    "\n",
    "\n",
    "header = ['YearsExperience', 'Salary']\n",
    "\n",
    "array =[]\n",
    "for row in rows:\n",
    "    a =[]\n",
    "    a.append(row.YearsExperience)\n",
    "    a.append(row.Salary)\n",
    "    array.append(a)\n",
    "    \n",
    "print(array)"
   ]
  }
 ],
 "metadata": {
  "kernelspec": {
   "display_name": "Python 3",
   "language": "python",
   "name": "python3"
  },
  "language_info": {
   "codemirror_mode": {
    "name": "ipython",
    "version": 3
   },
   "file_extension": ".py",
   "mimetype": "text/x-python",
   "name": "python",
   "nbconvert_exporter": "python",
   "pygments_lexer": "ipython3",
   "version": "3.8.8"
  }
 },
 "nbformat": 4,
 "nbformat_minor": 5
}
